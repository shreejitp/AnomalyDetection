{
  "nbformat": 4,
  "nbformat_minor": 0,
  "metadata": {
    "colab": {
      "name": "Multivariate_Gaussian_Anomaly_Detection.ipynb",
      "provenance": [],
      "mount_file_id": "1KqLwTBKRl03pR6Ay9SZk0hxttvQue36V",
      "authorship_tag": "ABX9TyNkQElWg7diCBOHwZrb1A3y",
      "include_colab_link": true
    },
    "kernelspec": {
      "name": "python3",
      "display_name": "Python 3"
    }
  },
  "cells": [
    {
      "cell_type": "markdown",
      "metadata": {
        "id": "view-in-github",
        "colab_type": "text"
      },
      "source": [
        "<a href=\"https://colab.research.google.com/github/shreejitp/AnomalyDetection/blob/main/Multivariate_Gaussian_Anomaly_Detection.ipynb\" target=\"_parent\"><img src=\"https://colab.research.google.com/assets/colab-badge.svg\" alt=\"Open In Colab\"/></a>"
      ]
    },
    {
      "cell_type": "markdown",
      "metadata": {
        "id": "bjRKWZsZ-si6"
      },
      "source": [
        "#**Multivariate Guassian Distribution for Anomaly Detection** "
      ]
    },
    {
      "cell_type": "markdown",
      "metadata": {
        "id": "99om-qRcs-ct"
      },
      "source": [
        "Towards DS article- https://towardsdatascience.com/wondering-how-to-build-an-anomaly-detection-model-87d28e50309"
      ]
    },
    {
      "cell_type": "code",
      "metadata": {
        "id": "xCPC5Tpvtrpo"
      },
      "source": [
        "import numpy as np\r\n",
        "import matplotlib.pyplot as plt\r\n",
        "import scipy.io as sio\r\n",
        "import math"
      ],
      "execution_count": 3,
      "outputs": []
    },
    {
      "cell_type": "markdown",
      "metadata": {
        "id": "IAtlXTdhtzVq"
      },
      "source": [
        "This example is just using a toy dataset\r\n",
        "\r\n",
        "- Link to datasets:\r\n",
        "https://github.com/abhishek-Kumar009/Machine-Learning/tree/master/AnomalyDetectionScratch\r\n",
        "\r\n",
        "Also uploaded the datasets to Gdrive- \r\n",
        "https://drive.google.com/drive/folders/1VJM7pMHdV-pB5FHXxr0FiZ3MAySfTBt5\r\n",
        "\r\n"
      ]
    },
    {
      "cell_type": "code",
      "metadata": {
        "id": "tlQyst47tuZX"
      },
      "source": [
        "dataset = sio.loadmat('/content/drive/MyDrive/Data_Science/Datasets/anomalyData.mat')\r\n",
        "X = dataset['X']\r\n",
        "Xval = dataset['Xval']\r\n",
        "yval = dataset['yval']"
      ],
      "execution_count": 4,
      "outputs": []
    },
    {
      "cell_type": "markdown",
      "metadata": {
        "id": "ZI90APV2v4u7"
      },
      "source": [
        "X contains the training dataset\r\n",
        "Xval contains cross validation set \r\n",
        "‘yval’ the corresponding output for the ‘Xval"
      ]
    },
    {
      "cell_type": "code",
      "metadata": {
        "colab": {
          "base_uri": "https://localhost:8080/"
        },
        "id": "HobV0yAVt7Wt",
        "outputId": "ed065df2-47b4-4ed7-a17f-5134af6ee4ce"
      },
      "source": [
        "# The loaded data here is of the dict type \r\n",
        "type(dataset)"
      ],
      "execution_count": 10,
      "outputs": [
        {
          "output_type": "execute_result",
          "data": {
            "text/plain": [
              "dict"
            ]
          },
          "metadata": {
            "tags": []
          },
          "execution_count": 10
        }
      ]
    },
    {
      "cell_type": "code",
      "metadata": {
        "colab": {
          "base_uri": "https://localhost:8080/"
        },
        "id": "bCt-m-0Jvio5",
        "outputId": "dce12a85-3b34-4599-d463-2ecc32150a12"
      },
      "source": [
        "print(X[0])  # There is no target in train??\r\n",
        "print(Xval[0])\r\n",
        "print(yval[0]) # Target for Validation"
      ],
      "execution_count": 15,
      "outputs": [
        {
          "output_type": "stream",
          "text": [
            "[13.04681517 14.74115241]\n",
            "[15.79025979 14.9210243 ]\n",
            "[0]\n"
          ],
          "name": "stdout"
        }
      ]
    },
    {
      "cell_type": "code",
      "metadata": {
        "colab": {
          "base_uri": "https://localhost:8080/"
        },
        "id": "sEyflsAGwIW3",
        "outputId": "ac1babc0-a04f-4bc1-a8d1-4b1397a495ec"
      },
      "source": [
        "X.shape"
      ],
      "execution_count": 16,
      "outputs": [
        {
          "output_type": "execute_result",
          "data": {
            "text/plain": [
              "(307, 2)"
            ]
          },
          "metadata": {
            "tags": []
          },
          "execution_count": 16
        }
      ]
    },
    {
      "cell_type": "markdown",
      "metadata": {
        "id": "-LbhkfmFxIeS"
      },
      "source": [
        "As you can see there are 307 training examples and each having 2 features. The features measure the throughput (mb/s) and latency (ms) of response of each server. While your servers were operating, you collected m = 307 examples of how they were behaving, and thus have an unlabeled dataset {x(1), . . . , x(m)}.\r\n",
        "\r\n",
        "\r\n",
        "You suspect that the vast majority of these examples are “normal” (non-anomalous) examples of the servers operating normally, but there might also be some examples of servers acting anomalously within this dataset\r\n"
      ]
    },
    {
      "cell_type": "code",
      "metadata": {
        "colab": {
          "base_uri": "https://localhost:8080/",
          "height": 297
        },
        "id": "lLbtmedIw-rm",
        "outputId": "a76df321-fbb2-4885-91d3-89958b472f3b"
      },
      "source": [
        "# Plotting the training set using matplotlib\r\n",
        "plt.scatter(X[:, 0], X[:, 1], marker = \"x\")\r\n",
        "plt.xlabel('Latency(ms)')\r\n",
        "plt.ylabel('Throughput(mb/s)')"
      ],
      "execution_count": 18,
      "outputs": [
        {
          "output_type": "execute_result",
          "data": {
            "text/plain": [
              "Text(0, 0.5, 'Throughput(mb/s)')"
            ]
          },
          "metadata": {
            "tags": []
          },
          "execution_count": 18
        },
        {
          "output_type": "display_data",
          "data": {
            "image/png": "[encoded data removed]",
            "text/plain": [
              "<Figure size 432x288 with 1 Axes>"
            ]
          },
          "metadata": {
            "tags": [],
            "needs_background": "light"
          }
        }
      ]
    },
    {
      "cell_type": "markdown",
      "metadata": {
        "id": "R-AoMb9Ox2dO"
      },
      "source": [
        "Writing a function to calculate the Mean and the Variance for a feature"
      ]
    },
    {
      "cell_type": "code",
      "metadata": {
        "id": "1upY0xAlxfQg"
      },
      "source": [
        "def estimateGaussian(X):\r\n",
        "    n = np.size(X, 1)\r\n",
        "    m = np.size(X, 0)\r\n",
        "    mu = np.zeros((n, 1))\r\n",
        "    sigma2 = np.zeros((n, 1))\r\n",
        "    \r\n",
        "    mu = np.reshape((1/m)*np.sum(X, 0), (1, n))\r\n",
        "    sigma2 = np.reshape((1/m)*np.sum(np.power((X - mu),2), 0),(1, n))\r\n",
        "    \r\n",
        "    return mu, sigma2\r\n",
        "\r\n",
        "mu, sigma2 = estimateGaussian(X)"
      ],
      "execution_count": 19,
      "outputs": []
    },
    {
      "cell_type": "code",
      "metadata": {
        "colab": {
          "base_uri": "https://localhost:8080/"
        },
        "id": "Nw2FijaTyA3C",
        "outputId": "4dd78c68-7b1c-439a-d905-2eee67109e95"
      },
      "source": [
        "# Calling the function above to calculate the Mean and the Variance for the 2 features in X -- >>\r\n",
        "mu, sigma2 = estimateGaussian(X)  # You end with an array for mu and an array for Sigma2 \r\n",
        "print('mean: ',mu,' variance: ',sigma2)   "
      ],
      "execution_count": 21,
      "outputs": [
        {
          "output_type": "stream",
          "text": [
            "mean:  [[14.11222578 14.99771051]]  variance:  [[1.83263141 1.70974533]]\n"
          ],
          "name": "stdout"
        }
      ]
    },
    {
      "cell_type": "markdown",
      "metadata": {
        "id": "ehKq3Jh-yf9u"
      },
      "source": [
        "Now that we have the mean and variance we need to calculate the probability of the training examples in order to decide which examples are anomalous. We can do it by using the Multivariate Gaussian model\r\n",
        "\r\n",
        "The multivariate Gaussian is used to find the probability of each example and based on some threshold value we decide whether to flag an anomaly or not"
      ]
    },
    {
      "cell_type": "code",
      "metadata": {
        "id": "8BbULxWHyLUx"
      },
      "source": [
        "def multivariateGaussian(X, mu, sigma2):\r\n",
        "     n = np.size(sigma2, 1)\r\n",
        "     m = np.size(sigma2, 0)\r\n",
        "     #print(m,n)\r\n",
        "     \r\n",
        "     if n == 1 or m == 1:\r\n",
        "        # print('Yes!')\r\n",
        "         sigma2 = np.diag(sigma2[0, :])\r\n",
        "     #print(sigma2)\r\n",
        "     X = X - mu\r\n",
        "     pi = math.pi\r\n",
        "     det = np.linalg.det(sigma2)\r\n",
        "     inv = np.linalg.inv(sigma2)\r\n",
        "     val = np.reshape((-0.5)*np.sum(np.multiply((X@inv),X), 1),(np.size(X, 0), 1))\r\n",
        "     #print(val.shape)\r\n",
        "     p = np.power(2*pi, -n/2)*np.power(det, -0.5)*np.exp(val)\r\n",
        "     \r\n",
        "     return p  # IF this p value < THRESHOLD; (FLAG AS ANOMALY)"
      ],
      "execution_count": 22,
      "outputs": []
    },
    {
      "cell_type": "code",
      "metadata": {
        "colab": {
          "base_uri": "https://localhost:8080/"
        },
        "id": "Erauvofsy1Vn",
        "outputId": "44199431-8ea2-4b51-c170-9c1192b8612b"
      },
      "source": [
        "p = multivariateGaussian(X, mu, sigma2)\r\n",
        "print(p.shape)"
      ],
      "execution_count": 23,
      "outputs": [
        {
          "output_type": "stream",
          "text": [
            "(307, 1)\n"
          ],
          "name": "stdout"
        }
      ]
    },
    {
      "cell_type": "markdown",
      "metadata": {
        "id": "MZjYjTeu2fRY"
      },
      "source": [
        "Thus, you’ve successfully calculated the probabilities. Next, you’ve to calculate to the threshold value using some labelled data. Let’s see how to do this"
      ]
    },
    {
      "cell_type": "code",
      "metadata": {
        "id": "gguTnYsb2XQ5"
      },
      "source": [
        "pval = multivariateGaussian(Xval, mu, sigma2)"
      ],
      "execution_count": 25,
      "outputs": []
    },
    {
      "cell_type": "code",
      "metadata": {
        "id": "-oqDsD5g2YcQ"
      },
      "source": [
        "#### Function for Selecting the best Threshold ### \r\n",
        "### You are passing the labels of the validation set and the pvalues of the validation set \r\n",
        "def selectThreshHold(yval, pval):\r\n",
        "    \r\n",
        "    F1 = 0\r\n",
        "    bestF1 = 0\r\n",
        "    bestEpsilon = 0\r\n",
        "    \r\n",
        "    stepsize = (np.max(pval) - np.min(pval))/1000\r\n",
        "        \r\n",
        "    epsVec = np.arange(np.min(pval), np.max(pval), stepsize)\r\n",
        "    noe = len(epsVec)\r\n",
        "    \r\n",
        "    for eps in range(noe):\r\n",
        "        epsilon = epsVec[eps]\r\n",
        "        pred = (pval < epsilon)\r\n",
        "        prec, rec = 0,0\r\n",
        "        tp,fp,fn = 0,0,0\r\n",
        "        \r\n",
        "        try:\r\n",
        "            for i in range(np.size(pval,0)):\r\n",
        "                if pred[i] == 1 and yval[i] == 1:\r\n",
        "                    tp+=1\r\n",
        "                elif pred[i] == 1 and yval[i] == 0:\r\n",
        "                    fp+=1\r\n",
        "                elif pred[i] == 0 and yval[i] == 1:\r\n",
        "                    fn+=1\r\n",
        "            prec = tp/(tp + fp)\r\n",
        "            rec = tp/(tp + fn)\r\n",
        "            F1 = 2*prec*rec/(prec + rec)\r\n",
        "            if F1 > bestF1:\r\n",
        "                bestF1 = F1\r\n",
        "                bestEpsilon = epsilon\r\n",
        "        except ZeroDivisionError:\r\n",
        "            print('Warning dividing by zero!!')          \r\n",
        "       \r\n",
        "    return bestF1, bestEpsilon"
      ],
      "execution_count": 26,
      "outputs": []
    },
    {
      "cell_type": "markdown",
      "metadata": {
        "id": "xG5-ExQZ3Cww"
      },
      "source": [
        "First, we find the stepsize to have a wide range of threshold values to decide the best one. We use the F1 score method to determine the best parameters i.e bestepsilon and bestF1. Predict anomaly if pval<epsilon that gives a vector of binary values in the variable predict. F1 score takes into consideration precision and recall"
      ]
    },
    {
      "cell_type": "code",
      "metadata": {
        "colab": {
          "base_uri": "https://localhost:8080/"
        },
        "id": "E_OnBxz72yI6",
        "outputId": "d872e55d-2ee6-4f0d-cda2-493faea89d08"
      },
      "source": [
        "F1, epsilon = selectThreshHold(yval, pval)\r\n",
        "print('Epsilon and F1 are:',epsilon, F1)"
      ],
      "execution_count": 27,
      "outputs": [
        {
          "output_type": "stream",
          "text": [
            "Warning dividing by zero!!\n",
            "Epsilon and F1 are: 8.990852779269493e-05 0.8750000000000001\n"
          ],
          "name": "stdout"
        }
      ]
    },
    {
      "cell_type": "markdown",
      "metadata": {
        "id": "YUTtecGD38A3"
      },
      "source": [
        "Now, we have the best epsilon value and we are now in a position to calculate the anomalies on the training data’s probability. We also call the anomalies as outliers"
      ]
    },
    {
      "cell_type": "code",
      "metadata": {
        "id": "oECDF0XF32cq"
      },
      "source": [
        "outl = (p < epsilon)"
      ],
      "execution_count": 28,
      "outputs": []
    },
    {
      "cell_type": "code",
      "metadata": {
        "colab": {
          "base_uri": "https://localhost:8080/"
        },
        "id": "g4Y5s_NE4Bi9",
        "outputId": "cbd84b3b-f746-4b65-953a-5de03f7e2080"
      },
      "source": [
        "outl[0:10]"
      ],
      "execution_count": 32,
      "outputs": [
        {
          "output_type": "execute_result",
          "data": {
            "text/plain": [
              "array([[False],\n",
              "       [False],\n",
              "       [False],\n",
              "       [False],\n",
              "       [False],\n",
              "       [False],\n",
              "       [False],\n",
              "       [False],\n",
              "       [False],\n",
              "       [False]])"
            ]
          },
          "metadata": {
            "tags": []
          },
          "execution_count": 32
        }
      ]
    },
    {
      "cell_type": "markdown",
      "metadata": {
        "id": "aQgK_i8J4Ozp"
      },
      "source": [
        "We need to return the indices of the outliers to identify the faulty servers. This gives us a vector with binary entries where 1 means anomaly and 0 means normal"
      ]
    },
    {
      "cell_type": "code",
      "metadata": {
        "id": "3LDhuVUo4UrO"
      },
      "source": [
        "def findIndices(binVec):\r\n",
        "    l = []\r\n",
        "    for i in range(len(binVec)):\r\n",
        "        if binVec[i] == 1:\r\n",
        "            l.append(i)\r\n",
        "    return l"
      ],
      "execution_count": 34,
      "outputs": []
    },
    {
      "cell_type": "code",
      "metadata": {
        "colab": {
          "base_uri": "https://localhost:8080/"
        },
        "id": "8fTBc8sE4bCH",
        "outputId": "5a4e599e-4fd0-4566-c3ca-69c92280b08a"
      },
      "source": [
        "listOfOutliers=findIndices(outl)\r\n",
        "count_outliers = len(listOfOutliers)\r\n",
        "print('\\n\\nNumber of outliers:', count_outliers)\r\n",
        "print('\\n',listOfOutliers)"
      ],
      "execution_count": 36,
      "outputs": [
        {
          "output_type": "stream",
          "text": [
            "\n",
            "\n",
            "Number of outliers: 6\n",
            "\n",
            " [300, 301, 303, 304, 305, 306]\n"
          ],
          "name": "stdout"
        }
      ]
    },
    {
      "cell_type": "code",
      "metadata": {
        "colab": {
          "base_uri": "https://localhost:8080/",
          "height": 280
        },
        "id": "LWu4fysV4mnW",
        "outputId": "1ef5a160-b509-49b8-979a-ec5e6cad432a"
      },
      "source": [
        "plt.scatter(X[:, 0], X[:, 1], marker = \"x\")\r\n",
        "plt.xlabel('Latency(ms)')\r\n",
        "plt.ylabel('Throughput(mb/s)')\r\n",
        "plt.scatter(X[listOfOutliers,0], X[listOfOutliers, 1], facecolors = 'none', edgecolors = 'r') # Marking the outliers here\r\n",
        "plt.show()"
      ],
      "execution_count": 37,
      "outputs": [
        {
          "output_type": "display_data",
          "data": {
            "image/png": "[encoded data removed]",
            "text/plain": [
              "<Figure size 432x288 with 1 Axes>"
            ]
          },
          "metadata": {
            "tags": [],
            "needs_background": "light"
          }
        }
      ]
    },
    {
      "cell_type": "markdown",
      "metadata": {
        "id": "QDEBDrX45KEV"
      },
      "source": [
        "Applying the same on a test Dataset"
      ]
    },
    {
      "cell_type": "code",
      "metadata": {
        "id": "4zgutfao411E"
      },
      "source": [
        "newDataset = sio.loadmat('/content/drive/MyDrive/Data_Science/Datasets/anomalyDataTest.mat')\r\n",
        "\r\n",
        "Xtest = newDataset['X']\r\n",
        "Xvaltest = newDataset['Xval']\r\n",
        "yvaltest = newDataset['yval']"
      ],
      "execution_count": 41,
      "outputs": []
    },
    {
      "cell_type": "code",
      "metadata": {
        "colab": {
          "base_uri": "https://localhost:8080/"
        },
        "id": "gt_IDScB5Sud",
        "outputId": "f4b167c7-1ce5-4682-cfba-90aae83e2f3f"
      },
      "source": [
        "# Completely new sets of values are calculated- \r\n",
        "# It is not like a supervised Algorith --- Anomalies are outliers (they can't be trained)\r\n",
        "## \r\n",
        "\r\n",
        "mutest, sigma2test = estimateGaussian(Xtest)\r\n",
        "ptest = multivariateGaussian(Xtest, mutest, sigma2test)\r\n",
        "pvaltest = multivariateGaussian(Xvaltest, mutest, sigma2test)\r\n",
        "\r\n",
        "F1test, epsilontest = selectThreshHold(yvaltest, pvaltest)\r\n",
        "print('\\nBest epsilon and F1 are\\n',epsilontest, F1test)"
      ],
      "execution_count": 42,
      "outputs": [
        {
          "output_type": "stream",
          "text": [
            "Warning dividing by zero!!\n",
            "\n",
            "Best epsilon and F1 are\n",
            " 1.3772288907613575e-18 0.6153846153846154\n"
          ],
          "name": "stdout"
        }
      ]
    },
    {
      "cell_type": "code",
      "metadata": {
        "colab": {
          "base_uri": "https://localhost:8080/"
        },
        "id": "srhz8VxI5vVw",
        "outputId": "1b8b6f03-2a43-4bc4-e185-645a28502bba"
      },
      "source": [
        "outliersTest = ptest < epsilontest\r\n",
        "listOfOl = findIndices(outliersTest)\r\n",
        "\r\n",
        "print('\\n\\n Outliers are:\\n',listOfOl)\r\n",
        "print('\\n\\nNumber of outliers are: ',len(listOfOl))"
      ],
      "execution_count": 43,
      "outputs": [
        {
          "output_type": "stream",
          "text": [
            "\n",
            "\n",
            " Outliers are:\n",
            " [9, 20, 21, 30, 39, 56, 62, 63, 69, 70, 77, 79, 86, 103, 130, 147, 154, 166, 175, 176, 198, 209, 212, 218, 222, 227, 229, 233, 244, 262, 266, 271, 276, 284, 285, 288, 289, 290, 297, 303, 307, 308, 320, 324, 338, 341, 342, 344, 350, 351, 353, 365, 369, 371, 378, 398, 407, 420, 421, 424, 429, 438, 452, 455, 456, 462, 478, 497, 518, 527, 530, 539, 541, 551, 574, 583, 587, 602, 613, 614, 628, 648, 674, 678, 682, 685, 700, 702, 705, 713, 721, 741, 750, 757, 758, 787, 831, 834, 836, 839, 846, 870, 885, 887, 890, 901, 911, 930, 939, 940, 943, 951, 952, 970, 975, 992, 996]\n",
            "\n",
            "\n",
            "Number of outliers are:  117\n"
          ],
          "name": "stdout"
        }
      ]
    },
    {
      "cell_type": "markdown",
      "metadata": {
        "id": "lR3n7N7o50_k"
      },
      "source": [
        "Great! This brings us to the end of the exercise \r\n",
        "\r\n",
        "Questions: \r\n",
        "1. Here we applied Multivariate Guassian Distribution thinking that the distribution of all features is Normal (True?)\r\n",
        "\r\n",
        "2. What happens the distribution is not really normal (Can we so some transformations)\r\n",
        "\r\n",
        "3. What other distributions can be considered for Outlier Detection?\r\n",
        "\r\n",
        "\r\n"
      ]
    },
    {
      "cell_type": "code",
      "metadata": {
        "id": "oGFNbCeR5zkZ"
      },
      "source": [
        ""
      ],
      "execution_count": null,
      "outputs": []
    }
  ]
}